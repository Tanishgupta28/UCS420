{
 "cells": [
  {
   "cell_type": "markdown",
   "id": "9442ef87-cca7-4ade-b4c2-a7550d860d60",
   "metadata": {},
   "source": [
    "#### 1: Create a List L that is defined as= [10, 20, 30, 40, 50, 60, 70, 80]. i. WAP to add 200 and 300 to L. ii. WAP to remove 10 and 30 from L. iii. WAP to sort L in ascending order. iv. WAP to sort L in descending order."
   ]
  },
  {
   "cell_type": "code",
   "execution_count": 1,
   "id": "13dba038-f358-455b-8cba-47eca3761dc8",
   "metadata": {},
   "outputs": [
    {
     "name": "stdout",
     "output_type": "stream",
     "text": [
      "[10, 20, 30, 40, 50, 60, 70, 80, 200, 300]\n",
      "[20, 40, 50, 60, 70, 80, 200, 300]\n",
      "[20, 40, 50, 60, 70, 80, 200, 300]\n",
      "[300, 200, 80, 70, 60, 50, 40, 20]\n"
     ]
    }
   ],
   "source": [
    "list1 = [10, 20, 30, 40, 50, 60, 70, 80]\n",
    "list1.extend([200,300])\n",
    "print(list1)\n",
    "list1.remove(10)\n",
    "list1.remove(30)\n",
    "print(list1)\n",
    "list1.sort()\n",
    "print(list1)\n",
    "list1.sort(reverse=True)\n",
    "print(list1)"
   ]
  },
  {
   "cell_type": "markdown",
   "id": "7ee5045a-29be-4cbb-855c-0d4eb1808a7a",
   "metadata": {},
   "source": [
    "#### Create a tuple of marks scored as scores = (45, 89.5, 76, 45.4, 89, 92, 58, 45) and perform the following operations using tuple functions: i. Identify the highest score and its index in the tuple. ii. Find the lowest score and count how many times it appears. iii. Reverse the tuple and return it as a list. iv. Check if a specific score ‘76’ (input by the user) is present in the tuple and print its first occurrence index, or a message saying it’s not present."
   ]
  },
  {
   "cell_type": "code",
   "execution_count": 2,
   "id": "32d863ae-06c2-416f-a97e-377af21fef7e",
   "metadata": {},
   "outputs": [
    {
     "name": "stdout",
     "output_type": "stream",
     "text": [
      "92\n",
      "5\n",
      "45\n",
      "1\n",
      "[45, 58, 92, 89, 45.4, 76, 89.5, 45]\n",
      "The first occurrence of score 76 is at index 2.\n"
     ]
    }
   ],
   "source": [
    "scores = (45, 89.5, 76, 45.4, 89, 92, 58, 45)\n",
    "print(max(scores))\n",
    "print(scores.index(max(scores)))\n",
    "print(min(scores))\n",
    "print(scores.count(max(scores)))\n",
    "tupleToList = list(scores[::-1])\n",
    "print(f\"{tupleToList}\")\n",
    "val = 76\n",
    "try:\n",
    "    print(f\"The first occurrence of score {val} is at index {scores.index(val)}.\")\n",
    "except ValueError:\n",
    "    print(f\"Score {val} is not present in the tuple.\")"
   ]
  },
  {
   "cell_type": "markdown",
   "id": "f3f2ba53-b2f2-495d-ac02-a17522632c6c",
   "metadata": {},
   "source": [
    "#### 3: WAP to create a list of 100 random numbers between 100 and 900. Count and print the: i. All odd numbers ii. All even numbers iii. All prime numbers"
   ]
  },
  {
   "cell_type": "code",
   "execution_count": 3,
   "id": "62799fb8-a738-4fd3-8d61-4108305a6ac0",
   "metadata": {},
   "outputs": [
    {
     "name": "stdout",
     "output_type": "stream",
     "text": [
      "List : [803, 502, 406, 284, 436, 575, 391, 575, 550, 598, 273, 120, 673, 148, 871, 559, 324, 865, 585, 347, 326, 579, 169, 176, 149, 727, 375, 680, 685, 692, 856, 358, 818, 406, 490, 263, 519, 530, 617, 865, 866, 126, 231, 670, 318, 396, 432, 407, 578, 867, 577, 692, 366, 514, 174, 247, 882, 309, 749, 705, 653, 805, 269, 621, 199, 265, 891, 805, 712, 250, 100, 455, 886, 807, 867, 521, 471, 891, 815, 167, 814, 436, 487, 715, 454, 678, 521, 279, 202, 595, 846, 189, 228, 113, 405, 307, 858, 894, 458, 242]\n",
      "Even Num: [502, 406, 284, 436, 550, 598, 120, 148, 324, 326, 176, 680, 692, 856, 358, 818, 406, 490, 530, 866, 126, 670, 318, 396, 432, 578, 692, 366, 514, 174, 882, 712, 250, 100, 886, 814, 436, 454, 678, 202, 846, 228, 858, 894, 458, 242]\n",
      "Odd Num: [803, 575, 391, 575, 273, 673, 871, 559, 865, 585, 347, 579, 169, 149, 727, 375, 685, 263, 519, 617, 865, 231, 407, 867, 577, 247, 309, 749, 705, 653, 805, 269, 621, 199, 265, 891, 805, 455, 807, 867, 521, 471, 891, 815, 167, 487, 715, 521, 279, 595, 189, 113, 405, 307]\n",
      "Prime Num: [803, 502, 406, 284, 436, 575, 391, 575, 550, 598, 273, 120, 673, 148, 871, 559, 324, 865, 585, 347, 326, 579, 169, 176, 149, 727, 375, 680, 685, 692, 856, 358, 818, 406, 490, 263, 519, 530, 617, 865, 866, 126, 231, 670, 318, 396, 432, 407, 578, 867, 577, 692, 366, 514, 174, 247, 882, 309, 749, 705, 653, 805, 269, 621, 199, 265, 891, 805, 712, 250, 100, 455, 886, 807, 867, 521, 471, 891, 815, 167, 814, 436, 487, 715, 454, 678, 521, 279, 202, 595, 846, 189, 228, 113, 405, 307, 858, 894, 458, 242]\n"
     ]
    }
   ],
   "source": [
    "import random\n",
    "listX = [random.randint(100,900) for _ in range(100)]\n",
    "print(\"List :\",listX)\n",
    "evenNum = [x for x in listX if x%2==0]\n",
    "print(\"Even Num:\", evenNum)\n",
    "oddNum = [x for x in listX if not x%2==0]\n",
    "print(\"Odd Num:\",oddNum)\n",
    "primeNum = [x for x in listX if all(i%x!=0 for i in range(2,int(x**0.5)+1))]\n",
    "print(\"Prime Num:\",primeNum)"
   ]
  },
  {
   "cell_type": "markdown",
   "id": "62289c91-3944-4f83-a4a8-2dae46c47c7e",
   "metadata": {},
   "source": [
    "#### 4: Consider the following two sets, A and B, representing scores of two teams in multiple matches. A = {34, 56, 78, 90} and B = {78, 45, 90, 23} WAP to perform the following operations using set funcƟons: i. Find the unique scores achieved by both teams (union of sets). ii. Identify the scores that are common to both teams (intersection of sets). iii. Find the scores that are exclusive to each team (symmetric difference). iv. Check if the scores of team A are a subset of team B, and if team B's scores are a superset of team A. v. Remove a specific score X (input by the user) from set A if it exists. If not, print a message saying it is not present."
   ]
  },
  {
   "cell_type": "code",
   "execution_count": 4,
   "id": "0aaff5a6-ff59-45d4-8443-ae0e17eeb476",
   "metadata": {},
   "outputs": [
    {
     "name": "stdout",
     "output_type": "stream",
     "text": [
      "{34, 45, 78, 23, 56, 90}\n",
      "{90, 78}\n",
      "{34, 45, 23, 56}\n",
      "The scores of team A are a subset of team B: False\n",
      "team B's scores are a superset of team A: False\n"
     ]
    },
    {
     "name": "stdout",
     "output_type": "stream",
     "text": [
      "Enter a score:  78\n"
     ]
    },
    {
     "name": "stdout",
     "output_type": "stream",
     "text": [
      "Score 78 removed.\n"
     ]
    }
   ],
   "source": [
    "A = {34, 56, 78, 90}\n",
    "B = {78, 45, 90, 23}\n",
    "print(A|B)\n",
    "print(A&B)\n",
    "print(A.symmetric_difference(B))\n",
    "\n",
    "print(f\"The scores of team A are a subset of team B: {A.issubset(B)}\")\n",
    "print(f\"team B's scores are a superset of team A: {B.issuperset(A)}\")\n",
    "\n",
    "user_in = int(input(\"Enter a score: \"))\n",
    "# Try to remove the score from A\n",
    "if user_in in A:\n",
    "    A.remove(user_in)\n",
    "    print(f\"Score {user_in} removed.\")\n",
    "else:\n",
    "    print(f\"Score {user_in} not present in team A.\")"
   ]
  },
  {
   "cell_type": "markdown",
   "id": "ee103f06-3263-4c53-8401-882fc26fe1bf",
   "metadata": {},
   "source": [
    "####  Write a program to rename a key city to a location in the following dictionary."
   ]
  },
  {
   "cell_type": "code",
   "execution_count": 1,
   "id": "5ded1056-d8b6-41a9-8575-76601a87a82d",
   "metadata": {},
   "outputs": [
    {
     "name": "stdout",
     "output_type": "stream",
     "text": [
      "{'name': 'Tanish Gupta', 'age': 20, 'salary': 900000, 'city': 'Gurugram'}\n",
      "{'name': 'Tanish Gupta', 'age': 20, 'salary': 900000, 'location': 'Gurugram'}\n"
     ]
    }
   ],
   "source": [
    "dict1 = {\n",
    "    'name':\"Tanish Gupta\",\n",
    "    'age' :20,\n",
    "    'salary' : 900000,\n",
    "    'city': 'Gurugram'\n",
    "}\n",
    "print(dict1)\n",
    "dict1['location'] = dict1.pop('city')\n",
    "print(dict1)"
   ]
  },
  {
   "cell_type": "code",
   "execution_count": null,
   "id": "804b721a-b6d2-4723-9763-a47536f8f640",
   "metadata": {},
   "outputs": [],
   "source": []
  }
 ],
 "metadata": {
  "kernelspec": {
   "display_name": "Python 3 (ipykernel)",
   "language": "python",
   "name": "python3"
  },
  "language_info": {
   "codemirror_mode": {
    "name": "ipython",
    "version": 3
   },
   "file_extension": ".py",
   "mimetype": "text/x-python",
   "name": "python",
   "nbconvert_exporter": "python",
   "pygments_lexer": "ipython3",
   "version": "3.12.6"
  }
 },
 "nbformat": 4,
 "nbformat_minor": 5
}

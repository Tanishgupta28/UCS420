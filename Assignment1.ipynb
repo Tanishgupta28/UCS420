{
 "cells": [
  {
   "cell_type": "code",
   "execution_count": 5,
   "id": "ae6f14fa-e463-4568-827f-c06a2d3ca354",
   "metadata": {},
   "outputs": [
    {
     "name": "stdout",
     "output_type": "stream",
     "text": [
      "TANISH\n",
      "TANISH\n",
      "TANISH\n"
     ]
    }
   ],
   "source": [
    "#1.1: WAP to print your name three times\n",
    "\n",
    "print(\"TANISH\")\n",
    "print(\"TANISH\")\n",
    "print(\"TANISH\")\n"
   ]
  },
  {
   "cell_type": "code",
   "execution_count": 6,
   "id": "70d86874-9cee-468a-8127-33eb044b4ae8",
   "metadata": {},
   "outputs": [
    {
     "name": "stdout",
     "output_type": "stream",
     "text": [
      "120\n"
     ]
    }
   ],
   "source": [
    "#2.1:WAP to add three numbers and print the result.\n",
    "\n",
    "a=10\n",
    "b=20\n",
    "c=90\n",
    "print(a+b+c)"
   ]
  },
  {
   "cell_type": "code",
   "execution_count": 7,
   "id": "dd80fd74-d4c8-457d-bb08-e022bfcf76da",
   "metadata": {},
   "outputs": [
    {
     "name": "stdout",
     "output_type": "stream",
     "text": [
      "TANISH\n"
     ]
    }
   ],
   "source": [
    "#2.2: WAP to concatinate three strings and print the result.\n",
    "\n",
    "a=\"TA\"\n",
    "b=\"NI\"\n",
    "c=\"SH\"\n",
    "print(a+b+c)"
   ]
  },
  {
   "cell_type": "code",
   "execution_count": 9,
   "id": "88a6003f-4992-47b6-a94d-af1bc034e425",
   "metadata": {},
   "outputs": [
    {
     "name": "stdin",
     "output_type": "stream",
     "text": [
      "enter the number: 3\n"
     ]
    },
    {
     "name": "stdout",
     "output_type": "stream",
     "text": [
      "3\n",
      "6\n",
      "9\n",
      "12\n",
      "15\n",
      "18\n",
      "21\n",
      "24\n",
      "27\n",
      "30\n"
     ]
    }
   ],
   "source": [
    "#4.1: WAP to print the table of 7, 9\n",
    "\n",
    "a=int(input(\"enter the number:\"))  # we can input 7 and 9 respectively\n",
    "for i in range(1,11,1):\n",
    "  print(i*a)"
   ]
  },
  {
   "cell_type": "code",
   "execution_count": 10,
   "id": "72ca2ceb-f751-4d45-a1a0-3513f6531a11",
   "metadata": {},
   "outputs": [
    {
     "name": "stdin",
     "output_type": "stream",
     "text": [
      "enter the number: 3\n"
     ]
    },
    {
     "name": "stdout",
     "output_type": "stream",
     "text": [
      "3\n",
      "6\n",
      "9\n",
      "12\n",
      "15\n",
      "18\n",
      "21\n",
      "24\n",
      "27\n",
      "30\n"
     ]
    }
   ],
   "source": [
    "#4.2: WAP to print the table of n and n is given by user.\n",
    "\n",
    "n=int(input(\"enter the number:\"))  \n",
    "for i in range(1,11,1):\n",
    "  print(i*n)"
   ]
  },
  {
   "cell_type": "code",
   "execution_count": 11,
   "id": "0b50cd5d-c62c-45f3-8910-3ca7dfd42dd1",
   "metadata": {},
   "outputs": [
    {
     "name": "stdin",
     "output_type": "stream",
     "text": [
      "enter the number: 4\n"
     ]
    },
    {
     "name": "stdout",
     "output_type": "stream",
     "text": [
      "10\n"
     ]
    }
   ],
   "source": [
    "#4.3: WAP to add all the numbers from 1 to n and n is given by user.\n",
    "\n",
    "n=int(input(\"enter the number:\"))\n",
    "sum=0\n",
    "while n>0:\n",
    "  sum=sum+n\n",
    "  n=n-1\n",
    "print(sum)"
   ]
  },
  {
   "cell_type": "code",
   "execution_count": 12,
   "id": "adc50726-b916-41e0-8381-ed0b734f2209",
   "metadata": {},
   "outputs": [
    {
     "name": "stdin",
     "output_type": "stream",
     "text": [
      "enter the first number: 4\n",
      "enter the second number: 3\n",
      "enter the third number: 9\n"
     ]
    },
    {
     "name": "stdout",
     "output_type": "stream",
     "text": [
      "9\n"
     ]
    }
   ],
   "source": [
    "#5.1: WAP to find max amoung three numbers and input from user. [Try max() function]\n",
    "\n",
    "a=int(input(\"enter the first number:\"))\n",
    "b=int(input(\"enter the second number:\"))\n",
    "c=int(input(\"enter the third number:\"))\n",
    "print(max(a,b,c))"
   ]
  },
  {
   "cell_type": "code",
   "execution_count": 13,
   "id": "78dd6bd8-6bcb-488c-931e-04b6b4386f11",
   "metadata": {},
   "outputs": [
    {
     "name": "stdin",
     "output_type": "stream",
     "text": [
      "enter the number: 1\n"
     ]
    },
    {
     "name": "stdout",
     "output_type": "stream",
     "text": [
      "0\n"
     ]
    }
   ],
   "source": [
    "#5.2: WAP to add all numbers divisible by 7 and 9 from 1 to n and n is given by the user.\n",
    "\n",
    "n=int(input(\"enter the number:\"))\n",
    "sum=0\n",
    "for i in range(1,n+1):\n",
    "  if(i%7==0 and i%9==0):\n",
    "    sum=sum+i\n",
    "\n",
    "print(sum)"
   ]
  },
  {
   "cell_type": "code",
   "execution_count": 14,
   "id": "f94aedae-3aa8-43a9-ba07-ebfae0fbc530",
   "metadata": {},
   "outputs": [
    {
     "name": "stdin",
     "output_type": "stream",
     "text": [
      "enter the number: 4\n"
     ]
    },
    {
     "name": "stdout",
     "output_type": "stream",
     "text": [
      "5\n"
     ]
    }
   ],
   "source": [
    "#5.3: WAP to add all prime numbers from 1 to n and n is given by the user.\n",
    "\n",
    "\n",
    "n=int(input(\"enter the number:\"))\n",
    "sum=0\n",
    "for i in range(2,n+1): #because 1 is not a prime number\n",
    "  flag=0\n",
    "  for j in range(2,int((i/2)+1)):\n",
    "    if(i%j==0):\n",
    "      flag=1\n",
    "      break\n",
    "\n",
    "  if(flag==0):\n",
    "      sum=sum+i    \n",
    "\n",
    "\n",
    "print(sum)\n",
    " "
   ]
  },
  {
   "cell_type": "code",
   "execution_count": 16,
   "id": "005320f2-987b-46ae-9710-2e3e2aa619a7",
   "metadata": {},
   "outputs": [
    {
     "name": "stdin",
     "output_type": "stream",
     "text": [
      "Enter the value of n:  4\n"
     ]
    },
    {
     "name": "stdout",
     "output_type": "stream",
     "text": [
      "The sum of all prime numbers from 1 to 4 is: 5\n"
     ]
    }
   ],
   "source": [
    "# 6.1 \n",
    "\n",
    "def is_prime(num):\n",
    "    if num < 2:\n",
    "        return False\n",
    "    for i in range(2, int(num**0.5) + 1):  # Check divisibility up to sqrt(num)\n",
    "        if num % i == 0:\n",
    "            return False\n",
    "    return True\n",
    "\n",
    "\n",
    "def sum_prime_numbers(n):\n",
    "    total_sum = 0\n",
    "    for i in range(2, n + 1):  # Start at 2 because 1 is not prime\n",
    "        if is_prime(i):\n",
    "            total_sum += i\n",
    "    return total_sum\n",
    "\n",
    "\n",
    "n = int(input(\"Enter the value of n: \"))\n",
    "\n",
    "\n",
    "result = sum_prime_numbers(n)\n",
    "print(\"The sum of all prime numbers from 1 to\", n, \"is:\", result)"
   ]
  },
  {
   "cell_type": "code",
   "execution_count": 17,
   "id": "0348ba9f-38e7-40ed-a47c-51583c9d4beb",
   "metadata": {},
   "outputs": [
    {
     "name": "stdin",
     "output_type": "stream",
     "text": [
      "Enter the value of n:  6\n"
     ]
    },
    {
     "name": "stdout",
     "output_type": "stream",
     "text": [
      "The sum of all odd numbers from 1 to 6 is: 9\n"
     ]
    }
   ],
   "source": [
    "6.2# Function to add all odd numbers from 1 to n\n",
    "def sum_odd_numbers(n):\n",
    "    total_sum = 0\n",
    "    for i in range(1, n + 1, 2):  # Start at 1, step by 2 to get only odd numbers\n",
    "        total_sum += i\n",
    "    return total_sum\n",
    "\n",
    "\n",
    "n = int(input(\"Enter the value of n: \"))\n",
    "\n",
    "\n",
    "result = sum_odd_numbers(n)\n",
    "print(\"The sum of all odd numbers from 1 to\", n, \"is:\", result)"
   ]
  },
  {
   "cell_type": "code",
   "execution_count": null,
   "id": "f48cd5f8-5c99-44a4-aab0-d951affe79c2",
   "metadata": {},
   "outputs": [],
   "source": []
  }
 ],
 "metadata": {
  "kernelspec": {
   "display_name": "Python 3 (ipykernel)",
   "language": "python",
   "name": "python3"
  },
  "language_info": {
   "codemirror_mode": {
    "name": "ipython",
    "version": 3
   },
   "file_extension": ".py",
   "mimetype": "text/x-python",
   "name": "python",
   "nbconvert_exporter": "python",
   "pygments_lexer": "ipython3",
   "version": "3.12.6"
  }
 },
 "nbformat": 4,
 "nbformat_minor": 5
}
